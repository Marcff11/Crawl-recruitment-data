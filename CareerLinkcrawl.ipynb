{
 "cells": [
  {
   "cell_type": "code",
   "execution_count": 1,
   "metadata": {},
   "outputs": [],
   "source": [
    "from selenium import webdriver\n",
    "from selenium.webdriver.common.keys import Keys\n",
    "import time\n",
    "from selenium.webdriver.common.by import By\n",
    "from selenium.webdriver.support.ui import WebDriverWait\n",
    "from selenium.webdriver.support import expected_conditions as EC\n",
    "import pandas as pd\n",
    "import xlwings as xl\n",
    "import regex as re\n",
    "import os\n",
    "from pathlib import Path\n",
    "\n",
    "\n",
    "edge_options = webdriver.EdgeOptions()\n",
    "prefs = {'download.default_directory' : r'D:\\Masscom\\Data\\CareerLink'}\n",
    "edge_options.add_experimental_option('prefs', prefs)\n"
   ]
  },
  {
   "cell_type": "code",
   "execution_count": 2,
   "metadata": {},
   "outputs": [
    {
     "name": "stderr",
     "output_type": "stream",
     "text": [
      "C:\\Users\\Admin\\AppData\\Local\\Temp/ipykernel_13844/4225382121.py:9: DeprecationWarning: find_element_by_* commands are deprecated. Please use find_element() instead\n",
      "  driver.find_element_by_id(r'_username').send_keys(ten_dang_nhap)\n",
      "C:\\Users\\Admin\\AppData\\Local\\Temp/ipykernel_13844/4225382121.py:10: DeprecationWarning: find_element_by_* commands are deprecated. Please use find_element() instead\n",
      "  driver.find_element_by_id(r'_password').send_keys(mat_khau)\n",
      "C:\\Users\\Admin\\AppData\\Local\\Temp/ipykernel_13844/4225382121.py:23: DeprecationWarning: find_elements_by_* commands are deprecated. Please use find_elements() instead\n",
      "  jobs1 = driver.find_elements_by_class_name(\"dropdown-item\")\n"
     ]
    },
    {
     "name": "stdout",
     "output_type": "stream",
     "text": [
      "1\n",
      "2\n",
      "3\n",
      "4\n",
      "5\n",
      "6\n",
      "7\n",
      "8\n",
      "9\n",
      "10\n",
      "11\n",
      "12\n",
      "13\n",
      "14\n",
      "15\n",
      "16\n",
      "17\n",
      "18\n",
      "19\n",
      "20\n",
      "21\n",
      "22\n",
      "23\n",
      "24\n",
      "25\n",
      "26\n",
      "27\n",
      "28\n",
      "29\n",
      "30\n",
      "31\n"
     ]
    }
   ],
   "source": [
    "ten_dang_nhap = ''\n",
    "mat_khau = \"\"\n",
    "\n",
    "#------------------------------------------\n",
    "driver = webdriver.Edge(options = edge_options)\n",
    "driver.get(r\"https://www.careerlink.vn/nha-tuyen-dung/login\")\n",
    "wait = WebDriverWait(driver, 6)\n",
    "time.sleep(2)\n",
    "driver.find_element_by_id(r'_username').send_keys(ten_dang_nhap)\n",
    "driver.find_element_by_id(r'_password').send_keys(mat_khau)\n",
    "\n",
    "\n",
    "#sign in\n",
    "wait.until(EC.element_to_be_clickable((By.NAME,'btnCompanyLogin'))).click()\n",
    "\n",
    "#thư xin việc đã nhận\n",
    "wait.until(EC.element_to_be_clickable((By.CSS_SELECTOR,'#applications-link>a'))).click()\n",
    "\n",
    "#job dropdown\n",
    "wait.until(EC.element_to_be_clickable((By.XPATH,'/html/body/div[4]/div[1]/div/button'))).click()\n",
    "\n",
    "#job element list\n",
    "jobs1 = driver.find_elements_by_class_name(\"dropdown-item\")\n",
    "jobs = jobs1[6:len(jobs1)-1]\n",
    "real_jobs = [i for i in jobs if i.get_attribute(\"textContent\")[-3:] != \"(0)\"]\n",
    "\n",
    "\n",
    "#job_links\n",
    "job_links = []\n",
    "for i in real_jobs:\n",
    "    job_links.append(i.get_attribute('href'))\n",
    "\n",
    "#open job link in new tab, click download button then close the new tab\n",
    "for i in range(len(job_links)):\n",
    "    driver.execute_script(\"window.open()\")\n",
    "    driver.switch_to.window(driver.window_handles[1])\n",
    "    driver.get(job_links[i])\n",
    "    WebDriverWait(driver, 6).until(EC.element_to_be_clickable((By.XPATH,'/html/body/div[4]/div[2]/div/div[2]/div/a'))).click()\n",
    "    print(i+1)\n",
    "    time.sleep(10)\n",
    "    driver.close()\n",
    "    driver.switch_to.window(driver.window_handles[0])\n",
    "    time.sleep(5)\n",
    "\n"
   ]
  },
  {
   "cell_type": "code",
   "execution_count": 2,
   "metadata": {},
   "outputs": [
    {
     "name": "stdout",
     "output_type": "stream",
     "text": [
      "[WindowsPath('D:/Masscom/Data/CareerLink/applications_for_job_2249692_05_05_2022.xlsx'), WindowsPath('D:/Masscom/Data/CareerLink/applications_for_job_2249686_05_05_2022.xlsx'), WindowsPath('D:/Masscom/Data/CareerLink/applications_for_job_2249866_05_05_2022.xlsx'), WindowsPath('D:/Masscom/Data/CareerLink/applications_for_job_2255401_05_05_2022.xlsx'), WindowsPath('D:/Masscom/Data/CareerLink/applications_for_job_2255457_05_05_2022.xlsx'), WindowsPath('D:/Masscom/Data/CareerLink/applications_for_job_2263046_05_05_2022.xlsx'), WindowsPath('D:/Masscom/Data/CareerLink/applications_for_job_2243740_05_05_2022.xlsx'), WindowsPath('D:/Masscom/Data/CareerLink/applications_for_job_2243350_05_05_2022.xlsx'), WindowsPath('D:/Masscom/Data/CareerLink/applications_for_job_2262500_05_05_2022.xlsx'), WindowsPath('D:/Masscom/Data/CareerLink/applications_for_job_2262589_05_05_2022.xlsx'), WindowsPath('D:/Masscom/Data/CareerLink/applications_for_job_2238620_05_05_2022.xlsx'), WindowsPath('D:/Masscom/Data/CareerLink/applications_for_job_2238532_05_05_2022.xlsx'), WindowsPath('D:/Masscom/Data/CareerLink/applications_for_job_2243690_05_05_2022.xlsx'), WindowsPath('D:/Masscom/Data/CareerLink/applications_for_job_2262699_05_05_2022.xlsx'), WindowsPath('D:/Masscom/Data/CareerLink/applications_for_job_2238491_05_05_2022.xlsx'), WindowsPath('D:/Masscom/Data/CareerLink/applications_for_job_2238540_05_05_2022.xlsx'), WindowsPath('D:/Masscom/Data/CareerLink/applications_for_job_2238547_05_05_2022.xlsx'), WindowsPath('D:/Masscom/Data/CareerLink/applications_for_job_2214637_05_05_2022.xlsx'), WindowsPath('D:/Masscom/Data/CareerLink/applications_for_job_2214623_05_05_2022.xlsx'), WindowsPath('D:/Masscom/Data/CareerLink/applications_for_job_2208548_05_05_2022.xlsx'), WindowsPath('D:/Masscom/Data/CareerLink/applications_for_job_2208550_05_05_2022.xlsx'), WindowsPath('D:/Masscom/Data/CareerLink/applications_for_job_2208547_05_05_2022.xlsx'), WindowsPath('D:/Masscom/Data/CareerLink/applications_for_job_2208553_05_05_2022.xlsx'), WindowsPath('D:/Masscom/Data/CareerLink/applications_for_job_2214635_05_05_2022.xlsx'), WindowsPath('D:/Masscom/Data/CareerLink/applications_for_job_2205805_05_05_2022.xlsx'), WindowsPath('D:/Masscom/Data/CareerLink/applications_for_job_2196725_05_05_2022.xlsx'), WindowsPath('D:/Masscom/Data/CareerLink/applications_for_job_2204333_05_05_2022.xlsx'), WindowsPath('D:/Masscom/Data/CareerLink/applications_for_job_2204334_05_05_2022.xlsx'), WindowsPath('D:/Masscom/Data/CareerLink/applications_for_job_2204340_05_05_2022.xlsx'), WindowsPath('D:/Masscom/Data/CareerLink/applications_for_job_2196724_05_05_2022.xlsx'), WindowsPath('D:/Masscom/Data/CareerLink/applications_for_job_2197453_05_05_2022.xlsx')]\n"
     ]
    }
   ],
   "source": [
    "path = os.getcwd()\n",
    "files = sorted(Path(r'D:\\Masscom\\Data\\CareerLink').iterdir(), key=os.path.getmtime)\n",
    "\n",
    "print(files)\n",
    "\n",
    "\n",
    "header = 'Stt\tNgày nhận hồ sơ\tNgày nhận HS \tTháng nhận HS\tNăm nhận HS\tCông ty\tĐơn vị / Chi nhánh\tKhối/TT\tPhòng ban/Bộ phận\tVị trí\tHọ và tên\tNgày tháng năm sinh\tSố điện thoại\tEmail\tTuổi\tGiới tính\tTốt nghiệp trường\tTrình độ cao nhất\tĐịa chỉ\tNguồn\tHình thức\tLoại kênh\tKênh TD\tKQ hồ sơ'\n",
    "header = header.split('\\t')\n",
    "final_df = pd.DataFrame(columns = header)\n",
    "\n",
    "\n",
    "for i in range(len(files)):\n",
    "    df = pd.read_excel(\"%s\"%(files[i]))\n",
    "    df1 = pd.DataFrame(columns = header)\n",
    "\n",
    "    df1[\"Họ và tên\"] = df.iloc[5:,1]\n",
    "    df1[\"Ngày nhận hồ sơ\"] = pd.to_datetime(df.iloc[5:,2], format = r\"%d/%m/%Y %H:%M:%S\")\n",
    "    df1['Ngày nhận hồ sơ'] = df1['Ngày nhận hồ sơ'].dt.date\n",
    "    df1[\"Số điện thoại\"] = df.iloc[5:,4]\n",
    "    df1[\"Email\"] = df.iloc[5:,3]\n",
    "    df1[\"Ngày tháng năm sinh\"] = pd.to_datetime(df.iloc[5:,6]).dt.year\n",
    "    df1['Ngày nhận hồ sơ'] = pd.to_datetime(df1['Ngày nhận hồ sơ'])\n",
    "    df1['Ngày nhận HS '] = df1['Ngày nhận hồ sơ'].dt.day\n",
    "    df1['Tháng nhận HS'] = df1['Ngày nhận hồ sơ'].dt.month\n",
    "    df1['Năm nhận HS'] = df1['Ngày nhận hồ sơ'].dt.year\n",
    "    df1['Hình thức'] = 'Online'\n",
    "    df1['Nguồn'] = 'Bên ngoài'\n",
    "    df1['Loại kênh'] = 'Website'\n",
    "    df1['Kênh TD'] = 'CareerLink'\n",
    "    try:\n",
    "        df1 = df1.astype({\"Ngày tháng năm sinh\": int})\n",
    "        df1['Tuổi'] = df1['Năm nhận HS'] - df1['Ngày tháng năm sinh']\n",
    "    except: \n",
    "        df1['Tuổi'] = 'zzzzzzz'\n",
    "\n",
    "\n",
    "    df1['Ngày tháng năm sinh'] = df1['Ngày tháng năm sinh'].fillna('zzzzzzzzzzz')\n",
    "\n",
    "    df1[\"Vị trí\"] = df.iloc[[0],[1]].values[0][0]\n",
    "\n",
    "    df1['Giới tính'] = ''\n",
    "    df1.loc[df['Unnamed: 5'] == 'Male', 'Giới tính'] = 'Nam'\n",
    "    df1.loc[df['Unnamed: 5'] == 'Female', 'Giới tính'] = 'Nữ'\n",
    "\n",
    "    final_df = final_df.append(df1)\n",
    "\n",
    "#send data to excel\n",
    "book = xl.books.open(r\"D:\\Masscom\\Data\\2022_Data Tuyen dung.xlsx\")\n",
    "sheet = book.sheets(\"CareerLink\")\n",
    "sheet[\"A2\"].options(pd.DataFrame,index = False, header = False).value = final_df"
   ]
  },
  {
   "cell_type": "code",
   "execution_count": null,
   "metadata": {},
   "outputs": [],
   "source": []
  }
 ],
 "metadata": {
  "interpreter": {
   "hash": "183bbf6827d058c2a2fb0f4acdc0420849dda2b4380af0e437e38c64d798d8b7"
  },
  "kernelspec": {
   "display_name": "Python 3.9.7 ('base')",
   "language": "python",
   "name": "python3"
  },
  "language_info": {
   "codemirror_mode": {
    "name": "ipython",
    "version": 3
   },
   "file_extension": ".py",
   "mimetype": "text/x-python",
   "name": "python",
   "nbconvert_exporter": "python",
   "pygments_lexer": "ipython3",
   "version": "3.9.7"
  },
  "orig_nbformat": 4
 },
 "nbformat": 4,
 "nbformat_minor": 2
}
